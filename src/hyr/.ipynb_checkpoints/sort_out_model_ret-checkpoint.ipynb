{
 "cells": [
  {
   "cell_type": "code",
   "execution_count": 1,
   "metadata": {},
   "outputs": [],
   "source": [
    "from sklearn.feature_extraction.text import TfidfTransformer\n",
    "from sklearn.feature_extraction.text import CountVectorizer\n",
    "from sklearn.feature_extraction.text import TfidfVectorizer\n",
    "from sklearn.decomposition import TruncatedSVD\n",
    "from category_encoders import *\n",
    "from scipy import stats\n",
    "from sklearn.linear_model import LogisticRegression\n",
    "from sklearn.linear_model import SGDClassifier\n",
    "from sklearn.linear_model import PassiveAggressiveClassifier\n",
    "from sklearn.linear_model import RidgeClassifier\n",
    "from sklearn.naive_bayes import BernoulliNB\n",
    "from sklearn.naive_bayes import MultinomialNB\n",
    "from sklearn.ensemble import RandomForestClassifier\n",
    "from sklearn.ensemble import ExtraTreesClassifier\n",
    "from sklearn.tree import DecisionTreeClassifier\n",
    "import scipy\n",
    "import lightgbm as lgb\n",
    "from sklearn.metrics import accuracy_score\n",
    "from sklearn.model_selection import StratifiedKFold,KFold\n",
    "import pickle\n",
    "import logging\n",
    "LOG_FORMAT = \"%(asctime)s - %(levelname)s - %(message)s\"\n",
    "logging.basicConfig(level=logging.INFO, format=LOG_FORMAT)\n",
    "import os\n",
    "os.environ['NUMEXPR_MAX_THREADS'] = '32'\n",
    "import pandas as pd\n",
    "import numpy as np\n",
    "from tqdm import tqdm_notebook as tqdm\n",
    "from sklearn.metrics import confusion_matrix\n",
    "import IPython.display as ipd\n",
    "from sklearn.metrics import accuracy_score\n",
    "from sklearn.model_selection import StratifiedKFold,KFold\n",
    "import pandas as pd\n",
    "import numpy as np\n",
    "import copy\n",
    "from scipy.special import softmax"
   ]
  },
  {
   "cell_type": "code",
   "execution_count": 2,
   "metadata": {},
   "outputs": [],
   "source": [
    "var_dir = '../../var'\n",
    "my_var_dir = '../../var/hyr'\n"
   ]
  },
  {
   "cell_type": "code",
   "execution_count": 6,
   "metadata": {},
   "outputs": [
    {
     "ename": "FileNotFoundError",
     "evalue": "[Errno 2] No such file or directory: '../../var/hyr/model_one_200acc_wv_wd0_dp03/test_dict_flod_0.pickle'",
     "output_type": "error",
     "traceback": [
      "\u001b[0;31m---------------------------------------------------------------------------\u001b[0m",
      "\u001b[0;31mFileNotFoundError\u001b[0m                         Traceback (most recent call last)",
      "\u001b[0;32m<ipython-input-6-622c167ea9eb>\u001b[0m in \u001b[0;36m<module>\u001b[0;34m\u001b[0m\n\u001b[1;32m     54\u001b[0m \u001b[0mmodel_ret_dicts\u001b[0m \u001b[0;34m=\u001b[0m \u001b[0;34m[\u001b[0m\u001b[0;34m]\u001b[0m\u001b[0;34m\u001b[0m\u001b[0;34m\u001b[0m\u001b[0m\n\u001b[1;32m     55\u001b[0m \u001b[0;32mfor\u001b[0m \u001b[0mpath\u001b[0m \u001b[0;32min\u001b[0m \u001b[0mpaths\u001b[0m\u001b[0;34m:\u001b[0m\u001b[0;34m\u001b[0m\u001b[0;34m\u001b[0m\u001b[0m\n\u001b[0;32m---> 56\u001b[0;31m     \u001b[0mmodel_ret_dict\u001b[0m \u001b[0;34m=\u001b[0m \u001b[0mgenerate_feature\u001b[0m\u001b[0;34m(\u001b[0m\u001b[0mpath\u001b[0m\u001b[0;34m,\u001b[0m \u001b[0;32mTrue\u001b[0m\u001b[0;34m)\u001b[0m\u001b[0;34m\u001b[0m\u001b[0;34m\u001b[0m\u001b[0m\n\u001b[0m\u001b[1;32m     57\u001b[0m     \u001b[0mmodel_ret_dicts\u001b[0m\u001b[0;34m.\u001b[0m\u001b[0mappend\u001b[0m\u001b[0;34m(\u001b[0m\u001b[0mmodel_ret_dict\u001b[0m\u001b[0;34m)\u001b[0m\u001b[0;34m\u001b[0m\u001b[0;34m\u001b[0m\u001b[0m\n\u001b[1;32m     58\u001b[0m \u001b[0;32mfor\u001b[0m \u001b[0mi\u001b[0m \u001b[0;32min\u001b[0m \u001b[0mrange\u001b[0m\u001b[0;34m(\u001b[0m\u001b[0mlen\u001b[0m\u001b[0;34m(\u001b[0m\u001b[0mmodel_ret_dicts\u001b[0m\u001b[0;34m)\u001b[0m\u001b[0;34m)\u001b[0m\u001b[0;34m:\u001b[0m\u001b[0;34m\u001b[0m\u001b[0;34m\u001b[0m\u001b[0m\n",
      "\u001b[0;32m<ipython-input-6-622c167ea9eb>\u001b[0m in \u001b[0;36mgenerate_feature\u001b[0;34m(path, use_softmax)\u001b[0m\n\u001b[1;32m     32\u001b[0m     \u001b[0mfold\u001b[0m \u001b[0;34m=\u001b[0m \u001b[0;36m5\u001b[0m\u001b[0;34m\u001b[0m\u001b[0;34m\u001b[0m\u001b[0m\n\u001b[1;32m     33\u001b[0m     \u001b[0;32mfor\u001b[0m \u001b[0mi\u001b[0m \u001b[0;32min\u001b[0m \u001b[0mrange\u001b[0m\u001b[0;34m(\u001b[0m\u001b[0mfold\u001b[0m\u001b[0;34m)\u001b[0m\u001b[0;34m:\u001b[0m\u001b[0;34m\u001b[0m\u001b[0;34m\u001b[0m\u001b[0m\n\u001b[0;32m---> 34\u001b[0;31m         \u001b[0mtest_ret_dict\u001b[0m \u001b[0;34m=\u001b[0m \u001b[0mpickle\u001b[0m\u001b[0;34m.\u001b[0m\u001b[0mload\u001b[0m\u001b[0;34m(\u001b[0m\u001b[0mopen\u001b[0m\u001b[0;34m(\u001b[0m\u001b[0;34m'%s/test_dict_flod_%d.pickle'\u001b[0m \u001b[0;34m%\u001b[0m \u001b[0;34m(\u001b[0m\u001b[0mpath\u001b[0m\u001b[0;34m,\u001b[0m \u001b[0mi\u001b[0m\u001b[0;34m)\u001b[0m\u001b[0;34m,\u001b[0m \u001b[0;34m\"rb\"\u001b[0m\u001b[0;34m)\u001b[0m\u001b[0;34m)\u001b[0m\u001b[0;34m\u001b[0m\u001b[0;34m\u001b[0m\u001b[0m\n\u001b[0m\u001b[1;32m     35\u001b[0m         \u001b[0;32mif\u001b[0m \u001b[0muse_softmax\u001b[0m\u001b[0;34m:\u001b[0m\u001b[0;34m\u001b[0m\u001b[0;34m\u001b[0m\u001b[0m\n\u001b[1;32m     36\u001b[0m             \u001b[0mgender\u001b[0m \u001b[0;34m+=\u001b[0m \u001b[0msoftmax\u001b[0m\u001b[0;34m(\u001b[0m\u001b[0mtest_ret_dict\u001b[0m\u001b[0;34m[\u001b[0m\u001b[0;34m'gender'\u001b[0m\u001b[0;34m]\u001b[0m\u001b[0;34m,\u001b[0m \u001b[0maxis\u001b[0m \u001b[0;34m=\u001b[0m \u001b[0;36m1\u001b[0m\u001b[0;34m)\u001b[0m \u001b[0;34m/\u001b[0m \u001b[0mfold\u001b[0m\u001b[0;34m\u001b[0m\u001b[0;34m\u001b[0m\u001b[0m\n",
      "\u001b[0;31mFileNotFoundError\u001b[0m: [Errno 2] No such file or directory: '../../var/hyr/model_one_200acc_wv_wd0_dp03/test_dict_flod_0.pickle'"
     ]
    }
   ],
   "source": [
    "paths = [\n",
    "        '%s/model_pair_200acc_wv_lr0003_label_smooth' % my_var_dir,\n",
    "        '%s/model_one_50dim_wv_lr0003_wd0_dp02' % my_var_dir,\n",
    "\n",
    "    '%s/model_one_50dim_wv' % my_var_dir,\n",
    "     '%s/model_one_200acc_wv' % my_var_dir,\n",
    "     '%s/model_one_50dim_glove_origin_lr0003_wd0_dp01_len256' % my_var_dir,\n",
    "     '%s/model_one_200acc_glove_lr0003_smooth_wd005' % my_var_dir,\n",
    "     '%s/model_one_50dim_glove_lr0002_wd0_dp03_len64' % my_var_dir,\n",
    "    \n",
    "     '%s/model_pair_200acc_glove_lr0003_wd0_dp04' % my_var_dir, \n",
    "    '%s/model_pair_200acc_wv_lr0005' % my_var_dir,\n",
    "\n",
    "    '%s/model_one_50dim_origin100glove_lr0003_wd0_dp03' % my_var_dir, \n",
    "     '%s/model_one_50dim_glove_lr0005' % my_var_dir,\n",
    "    \n",
    "     '%s/model_re2_pair_50dim_wv' % my_var_dir,\n",
    "    '%s/model_pair_50dim_glove_smooth_lr0003' % my_var_dir,\n",
    "    '%s/model_one_aa100_wv_glove_lr0003_wd0_dp03' % my_var_dir,\n",
    "    '%s/model_pair_aa200_wv_epoch16' % my_var_dir,\n",
    "    '%s/model_one_200acc_wv_wd0_dp03' % my_var_dir,\n",
    "\n",
    "]\n",
    "names = [path.split('/')[-1] for path in paths]\n",
    "\n",
    "def generate_feature(path, use_softmax):\n",
    "    n = 10000\n",
    "#     n = 1\n",
    "    gender = np.zeros((int(1000000/n), 2))\n",
    "    age = np.zeros((int(1000000/n), 10))\n",
    "    \n",
    "    fold = 5\n",
    "    for i in range(fold):\n",
    "        test_ret_dict = pickle.load(open('%s/test_dict_flod_%d.pickle' % (path, i), \"rb\"))\n",
    "        if use_softmax:\n",
    "            gender += softmax(test_ret_dict['gender'], axis = 1) / fold\n",
    "            age += softmax(test_ret_dict['age'], axis = 1) / fold       \n",
    "        else:\n",
    "            gender += test_ret_dict['gender'] / fold\n",
    "            age += test_ret_dict['age'] / fold       \n",
    "    \n",
    "    val_gender = pickle.load(open(\"%s/score_gender_val.pickle\" % path, \"rb\"))\n",
    "    val_age = pickle.load(open(\"%s/score_age_val.pickle\" % path, \"rb\"))\n",
    "    if use_softmax:\n",
    "        val_gender = softmax(val_gender, axis=1)\n",
    "        val_age = softmax(val_age, axis=1)\n",
    "    return {\n",
    "        'train_gender' : val_gender,\n",
    "        'train_age' : val_age,\n",
    "        'test_gender' : gender,\n",
    "        'test_age' : age\n",
    "    }\n",
    "\n",
    "model_ret_dicts = []\n",
    "for path in paths:\n",
    "    model_ret_dict = generate_feature(path, True)\n",
    "    model_ret_dicts.append(model_ret_dict)\n",
    "for i in range(len(model_ret_dicts)):\n",
    "    pickle.dump(model_ret_dicts[i], open('%s/model_ret_dicts/hyr/%s' % (var_dir, names[i]), 'wb'))"
   ]
  },
  {
   "cell_type": "code",
   "execution_count": 16,
   "metadata": {},
   "outputs": [
    {
     "name": "stdout",
     "output_type": "stream",
     "text": [
      "../../var/hyr/model_one_50dim_200_class/\n",
      "../../var/hyr/model_one_50dim_200_class/\n",
      "../../var/hyr/model_one_50dim_200_class/\n",
      "../../var/hyr/model_one_50dim_200_class/\n",
      "../../var/hyr/model_one_50dim_200_class/\n"
     ]
    }
   ],
   "source": [
    "path = '%s/model_one_50dim_200_class/' % my_var_dir\n",
    "val_list, test_list = [], []\n",
    "for i in range(5):\n",
    "    val = pickle.load(open('%s/val_dict_flod_%d.pickle' % (path, i), 'rb'))\n",
    "    test = pickle.load(open('%s/test_dict_flod_%d.pickle' % (path, i), 'rb'))\n",
    "    val_list.append(softmax(val, axis=1))\n",
    "    test_list.append(softmax(test, axis=1))\n",
    "val_np = np.concatenate(val_list, axis=0)\n",
    "test_np = np.array(test_list).mean(axis=0)\n",
    "np.save('%s/model_ret_dicts/class20_val.npy'%var_dir, val_np)\n",
    "np.save('%s/model_ret_dicts/class20_test.npy'%var_dir, test_np)"
   ]
  },
  {
   "cell_type": "code",
   "execution_count": null,
   "metadata": {},
   "outputs": [],
   "source": []
  }
 ],
 "metadata": {
  "kernelspec": {
   "display_name": "fjw",
   "language": "python",
   "name": "fjw"
  },
  "language_info": {
   "codemirror_mode": {
    "name": "ipython",
    "version": 3
   },
   "file_extension": ".py",
   "mimetype": "text/x-python",
   "name": "python",
   "nbconvert_exporter": "python",
   "pygments_lexer": "ipython3",
   "version": "3.6.9"
  },
  "toc": {
   "base_numbering": 1,
   "nav_menu": {},
   "number_sections": true,
   "sideBar": true,
   "skip_h1_title": false,
   "title_cell": "Table of Contents",
   "title_sidebar": "Contents",
   "toc_cell": false,
   "toc_position": {},
   "toc_section_display": true,
   "toc_window_display": false
  }
 },
 "nbformat": 4,
 "nbformat_minor": 2
}
